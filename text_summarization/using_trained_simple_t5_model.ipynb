{
 "cells": [
  {
   "cell_type": "code",
   "execution_count": 1,
   "id": "dcbd0a51",
   "metadata": {},
   "outputs": [
    {
     "name": "stdout",
     "output_type": "stream",
     "text": [
      "Defaulting to user installation because normal site-packages is not writeable\n",
      "Requirement already satisfied: simplet5 in c:\\users\\thirumalan\\appdata\\roaming\\python\\python311\\site-packages (0.1.4)\n",
      "Requirement already satisfied: numpy in c:\\programdata\\anaconda3\\lib\\site-packages (from simplet5) (1.24.3)\n",
      "Requirement already satisfied: pandas in c:\\programdata\\anaconda3\\lib\\site-packages (from simplet5) (2.0.3)\n",
      "Requirement already satisfied: sentencepiece in c:\\users\\thirumalan\\appdata\\roaming\\python\\python311\\site-packages (from simplet5) (0.1.99)\n",
      "Requirement already satisfied: torch!=1.8.0,>=1.7.0 in c:\\users\\thirumalan\\appdata\\roaming\\python\\python311\\site-packages (from simplet5) (2.1.1)\n",
      "Requirement already satisfied: transformers==4.16.2 in c:\\users\\thirumalan\\appdata\\roaming\\python\\python311\\site-packages (from simplet5) (4.16.2)\n",
      "Requirement already satisfied: pytorch-lightning==1.5.10 in c:\\users\\thirumalan\\appdata\\roaming\\python\\python311\\site-packages (from simplet5) (1.5.10)\n",
      "Requirement already satisfied: future>=0.17.1 in c:\\programdata\\anaconda3\\lib\\site-packages (from pytorch-lightning==1.5.10->simplet5) (0.18.3)\n",
      "Requirement already satisfied: tqdm>=4.41.0 in c:\\programdata\\anaconda3\\lib\\site-packages (from pytorch-lightning==1.5.10->simplet5) (4.65.0)\n",
      "Requirement already satisfied: PyYAML>=5.1 in c:\\programdata\\anaconda3\\lib\\site-packages (from pytorch-lightning==1.5.10->simplet5) (6.0)\n",
      "Requirement already satisfied: fsspec[http]!=2021.06.0,>=2021.05.0 in c:\\users\\thirumalan\\appdata\\roaming\\python\\python311\\site-packages (from pytorch-lightning==1.5.10->simplet5) (2023.12.0)\n",
      "Requirement already satisfied: tensorboard>=2.2.0 in c:\\users\\thirumalan\\appdata\\roaming\\python\\python311\\site-packages (from pytorch-lightning==1.5.10->simplet5) (2.15.1)\n",
      "Requirement already satisfied: torchmetrics>=0.4.1 in c:\\users\\thirumalan\\appdata\\roaming\\python\\python311\\site-packages (from pytorch-lightning==1.5.10->simplet5) (1.2.0)\n",
      "Requirement already satisfied: pyDeprecate==0.3.1 in c:\\users\\thirumalan\\appdata\\roaming\\python\\python311\\site-packages (from pytorch-lightning==1.5.10->simplet5) (0.3.1)\n",
      "Requirement already satisfied: packaging>=17.0 in c:\\programdata\\anaconda3\\lib\\site-packages (from pytorch-lightning==1.5.10->simplet5) (23.1)\n",
      "Requirement already satisfied: typing-extensions in c:\\programdata\\anaconda3\\lib\\site-packages (from pytorch-lightning==1.5.10->simplet5) (4.7.1)\n",
      "Requirement already satisfied: setuptools==59.5.0 in c:\\users\\thirumalan\\appdata\\roaming\\python\\python311\\site-packages (from pytorch-lightning==1.5.10->simplet5) (59.5.0)\n",
      "Requirement already satisfied: filelock in c:\\programdata\\anaconda3\\lib\\site-packages (from transformers==4.16.2->simplet5) (3.9.0)\n",
      "Requirement already satisfied: huggingface-hub<1.0,>=0.1.0 in c:\\users\\thirumalan\\appdata\\roaming\\python\\python311\\site-packages (from transformers==4.16.2->simplet5) (0.19.4)\n",
      "Requirement already satisfied: regex!=2019.12.17 in c:\\programdata\\anaconda3\\lib\\site-packages (from transformers==4.16.2->simplet5) (2022.7.9)\n",
      "Requirement already satisfied: requests in c:\\programdata\\anaconda3\\lib\\site-packages (from transformers==4.16.2->simplet5) (2.31.0)\n",
      "Requirement already satisfied: sacremoses in c:\\users\\thirumalan\\appdata\\roaming\\python\\python311\\site-packages (from transformers==4.16.2->simplet5) (0.1.1)\n",
      "Requirement already satisfied: tokenizers!=0.11.3,>=0.10.1 in c:\\users\\thirumalan\\appdata\\roaming\\python\\python311\\site-packages (from transformers==4.16.2->simplet5) (0.15.0)\n",
      "Requirement already satisfied: sympy in c:\\programdata\\anaconda3\\lib\\site-packages (from torch!=1.8.0,>=1.7.0->simplet5) (1.11.1)\n",
      "Requirement already satisfied: networkx in c:\\programdata\\anaconda3\\lib\\site-packages (from torch!=1.8.0,>=1.7.0->simplet5) (3.1)\n",
      "Requirement already satisfied: jinja2 in c:\\programdata\\anaconda3\\lib\\site-packages (from torch!=1.8.0,>=1.7.0->simplet5) (3.1.2)\n",
      "Requirement already satisfied: python-dateutil>=2.8.2 in c:\\programdata\\anaconda3\\lib\\site-packages (from pandas->simplet5) (2.8.2)\n",
      "Requirement already satisfied: pytz>=2020.1 in c:\\programdata\\anaconda3\\lib\\site-packages (from pandas->simplet5) (2023.3.post1)\n",
      "Requirement already satisfied: tzdata>=2022.1 in c:\\programdata\\anaconda3\\lib\\site-packages (from pandas->simplet5) (2023.3)\n",
      "Requirement already satisfied: aiohttp!=4.0.0a0,!=4.0.0a1 in c:\\programdata\\anaconda3\\lib\\site-packages (from fsspec[http]!=2021.06.0,>=2021.05.0->pytorch-lightning==1.5.10->simplet5) (3.8.5)\n",
      "Requirement already satisfied: six>=1.5 in c:\\users\\thirumalan\\appdata\\roaming\\python\\python311\\site-packages (from python-dateutil>=2.8.2->pandas->simplet5) (1.12.0)\n",
      "Requirement already satisfied: absl-py>=0.4 in c:\\users\\thirumalan\\appdata\\roaming\\python\\python311\\site-packages (from tensorboard>=2.2.0->pytorch-lightning==1.5.10->simplet5) (2.0.0)\n",
      "Requirement already satisfied: grpcio>=1.48.2 in c:\\users\\thirumalan\\appdata\\roaming\\python\\python311\\site-packages (from tensorboard>=2.2.0->pytorch-lightning==1.5.10->simplet5) (1.59.3)\n",
      "Requirement already satisfied: google-auth<3,>=1.6.3 in c:\\users\\thirumalan\\appdata\\roaming\\python\\python311\\site-packages (from tensorboard>=2.2.0->pytorch-lightning==1.5.10->simplet5) (2.23.4)\n",
      "Requirement already satisfied: google-auth-oauthlib<2,>=0.5 in c:\\users\\thirumalan\\appdata\\roaming\\python\\python311\\site-packages (from tensorboard>=2.2.0->pytorch-lightning==1.5.10->simplet5) (1.1.0)\n",
      "Requirement already satisfied: markdown>=2.6.8 in c:\\programdata\\anaconda3\\lib\\site-packages (from tensorboard>=2.2.0->pytorch-lightning==1.5.10->simplet5) (3.4.1)\n",
      "Requirement already satisfied: protobuf<4.24,>=3.19.6 in c:\\users\\thirumalan\\appdata\\roaming\\python\\python311\\site-packages (from tensorboard>=2.2.0->pytorch-lightning==1.5.10->simplet5) (4.23.4)\n",
      "Requirement already satisfied: tensorboard-data-server<0.8.0,>=0.7.0 in c:\\users\\thirumalan\\appdata\\roaming\\python\\python311\\site-packages (from tensorboard>=2.2.0->pytorch-lightning==1.5.10->simplet5) (0.7.2)\n",
      "Requirement already satisfied: werkzeug>=1.0.1 in c:\\programdata\\anaconda3\\lib\\site-packages (from tensorboard>=2.2.0->pytorch-lightning==1.5.10->simplet5) (2.2.3)\n",
      "Requirement already satisfied: charset-normalizer<4,>=2 in c:\\programdata\\anaconda3\\lib\\site-packages (from requests->transformers==4.16.2->simplet5) (2.0.4)\n",
      "Requirement already satisfied: idna<4,>=2.5 in c:\\programdata\\anaconda3\\lib\\site-packages (from requests->transformers==4.16.2->simplet5) (3.4)\n",
      "Requirement already satisfied: urllib3<3,>=1.21.1 in c:\\programdata\\anaconda3\\lib\\site-packages (from requests->transformers==4.16.2->simplet5) (1.26.16)\n",
      "Requirement already satisfied: certifi>=2017.4.17 in c:\\programdata\\anaconda3\\lib\\site-packages (from requests->transformers==4.16.2->simplet5) (2023.7.22)\n",
      "Requirement already satisfied: lightning-utilities>=0.8.0 in c:\\users\\thirumalan\\appdata\\roaming\\python\\python311\\site-packages (from torchmetrics>=0.4.1->pytorch-lightning==1.5.10->simplet5) (0.10.0)\n",
      "Requirement already satisfied: colorama in c:\\programdata\\anaconda3\\lib\\site-packages (from tqdm>=4.41.0->pytorch-lightning==1.5.10->simplet5) (0.4.6)\n",
      "Requirement already satisfied: MarkupSafe>=2.0 in c:\\programdata\\anaconda3\\lib\\site-packages (from jinja2->torch!=1.8.0,>=1.7.0->simplet5) (2.1.1)\n",
      "Requirement already satisfied: click in c:\\programdata\\anaconda3\\lib\\site-packages (from sacremoses->transformers==4.16.2->simplet5) (8.0.4)\n",
      "Requirement already satisfied: joblib in c:\\programdata\\anaconda3\\lib\\site-packages (from sacremoses->transformers==4.16.2->simplet5) (1.2.0)\n",
      "Requirement already satisfied: mpmath>=0.19 in c:\\programdata\\anaconda3\\lib\\site-packages (from sympy->torch!=1.8.0,>=1.7.0->simplet5) (1.3.0)\n",
      "Requirement already satisfied: attrs>=17.3.0 in c:\\programdata\\anaconda3\\lib\\site-packages (from aiohttp!=4.0.0a0,!=4.0.0a1->fsspec[http]!=2021.06.0,>=2021.05.0->pytorch-lightning==1.5.10->simplet5) (22.1.0)\n",
      "Requirement already satisfied: multidict<7.0,>=4.5 in c:\\programdata\\anaconda3\\lib\\site-packages (from aiohttp!=4.0.0a0,!=4.0.0a1->fsspec[http]!=2021.06.0,>=2021.05.0->pytorch-lightning==1.5.10->simplet5) (6.0.2)\n",
      "Requirement already satisfied: async-timeout<5.0,>=4.0.0a3 in c:\\programdata\\anaconda3\\lib\\site-packages (from aiohttp!=4.0.0a0,!=4.0.0a1->fsspec[http]!=2021.06.0,>=2021.05.0->pytorch-lightning==1.5.10->simplet5) (4.0.2)\n",
      "Requirement already satisfied: yarl<2.0,>=1.0 in c:\\programdata\\anaconda3\\lib\\site-packages (from aiohttp!=4.0.0a0,!=4.0.0a1->fsspec[http]!=2021.06.0,>=2021.05.0->pytorch-lightning==1.5.10->simplet5) (1.8.1)\n",
      "Requirement already satisfied: frozenlist>=1.1.1 in c:\\programdata\\anaconda3\\lib\\site-packages (from aiohttp!=4.0.0a0,!=4.0.0a1->fsspec[http]!=2021.06.0,>=2021.05.0->pytorch-lightning==1.5.10->simplet5) (1.3.3)\n",
      "Requirement already satisfied: aiosignal>=1.1.2 in c:\\programdata\\anaconda3\\lib\\site-packages (from aiohttp!=4.0.0a0,!=4.0.0a1->fsspec[http]!=2021.06.0,>=2021.05.0->pytorch-lightning==1.5.10->simplet5) (1.2.0)\n",
      "Requirement already satisfied: cachetools<6.0,>=2.0.0 in c:\\users\\thirumalan\\appdata\\roaming\\python\\python311\\site-packages (from google-auth<3,>=1.6.3->tensorboard>=2.2.0->pytorch-lightning==1.5.10->simplet5) (5.3.2)\n",
      "Requirement already satisfied: pyasn1-modules>=0.2.1 in c:\\programdata\\anaconda3\\lib\\site-packages (from google-auth<3,>=1.6.3->tensorboard>=2.2.0->pytorch-lightning==1.5.10->simplet5) (0.2.8)\n",
      "Requirement already satisfied: rsa<5,>=3.1.4 in c:\\users\\thirumalan\\appdata\\roaming\\python\\python311\\site-packages (from google-auth<3,>=1.6.3->tensorboard>=2.2.0->pytorch-lightning==1.5.10->simplet5) (4.9)\n",
      "Requirement already satisfied: requests-oauthlib>=0.7.0 in c:\\users\\thirumalan\\appdata\\roaming\\python\\python311\\site-packages (from google-auth-oauthlib<2,>=0.5->tensorboard>=2.2.0->pytorch-lightning==1.5.10->simplet5) (1.3.1)\n",
      "Requirement already satisfied: pyasn1<0.5.0,>=0.4.6 in c:\\programdata\\anaconda3\\lib\\site-packages (from pyasn1-modules>=0.2.1->google-auth<3,>=1.6.3->tensorboard>=2.2.0->pytorch-lightning==1.5.10->simplet5) (0.4.8)\n",
      "Requirement already satisfied: oauthlib>=3.0.0 in c:\\users\\thirumalan\\appdata\\roaming\\python\\python311\\site-packages (from requests-oauthlib>=0.7.0->google-auth-oauthlib<2,>=0.5->tensorboard>=2.2.0->pytorch-lightning==1.5.10->simplet5) (3.2.2)\n"
     ]
    },
    {
     "name": "stderr",
     "output_type": "stream",
     "text": [
      "DEPRECATION: pytorch-lightning 1.5.10 has a non-standard dependency specifier torch>=1.7.*. pip 23.3 will enforce this behaviour change. A possible replacement is to upgrade to a newer version of pytorch-lightning or contact the author to suggest that they release a version with a conforming dependency specifiers. Discussion can be found at https://github.com/pypa/pip/issues/12063\n",
      "DEPRECATION: textract 1.6.5 has a non-standard dependency specifier extract-msg<=0.29.*. pip 23.3 will enforce this behaviour change. A possible replacement is to upgrade to a newer version of textract or contact the author to suggest that they release a version with a conforming dependency specifiers. Discussion can be found at https://github.com/pypa/pip/issues/12063\n"
     ]
    }
   ],
   "source": [
    "# Install the simplet5 library using pip\n",
    "!pip install simplet5"
   ]
  },
  {
   "cell_type": "code",
   "execution_count": 2,
   "id": "e6723069",
   "metadata": {},
   "outputs": [
    {
     "name": "stderr",
     "output_type": "stream",
     "text": [
      "Global seed set to 42\n"
     ]
    }
   ],
   "source": [
    "# Import the SimpleT5 class from the simplet5 library\n",
    "from simplet5 import SimpleT5"
   ]
  },
  {
   "cell_type": "code",
   "execution_count": 3,
   "id": "2135accd",
   "metadata": {},
   "outputs": [],
   "source": [
    "# Create an instance of the SimpleT5 model\n",
    "model = SimpleT5()\n",
    "\n",
    "# Load the pre-trained T5 model with the base configuration\n",
    "model.from_pretrained(model_type=\"t5\", model_name=\"t5-base\")"
   ]
  },
  {
   "cell_type": "code",
   "execution_count": 4,
   "id": "7a0f36ee",
   "metadata": {},
   "outputs": [],
   "source": [
    "#  Load a specific checkpoint of the trained model\n",
    "model.load_model(\"t5\",\"outputs/best_model\", use_gpu=False)"
   ]
  },
  {
   "cell_type": "code",
   "execution_count": 7,
   "id": "cc2e1a33",
   "metadata": {},
   "outputs": [],
   "source": [
    "# Define the text to be summarized\n",
    "\n",
    "text_to_summarize=\"\"\"\n",
    "            Building upon the previous week's efforts, we continued to refine the user interface by\n",
    "            addressing challenges in incorporating the toggle button at the browser's top.\n",
    "            Instead of placing a button on each meeting UI separately,\n",
    "            we centralized the recording functionality within the browser extension itself.\n",
    "            Now, users can start recording at any time with the recording button located in the extension.\n",
    "            We are actively working on integrating these new codes with the recording functionality.\n",
    "        \n",
    "            \"\"\""
   ]
  },
  {
   "cell_type": "code",
   "execution_count": 8,
   "id": "f52dca9d",
   "metadata": {},
   "outputs": [
    {
     "data": {
      "text/plain": [
       "['We also addressed issues in incorporating the toggle button at the top.']"
      ]
     },
     "execution_count": 8,
     "metadata": {},
     "output_type": "execute_result"
    }
   ],
   "source": [
    "# Use the loaded model to predict the summary of the input text\n",
    "model.predict(text_to_summarize)"
   ]
  }
 ],
 "metadata": {
  "kernelspec": {
   "display_name": "Python 3 (ipykernel)",
   "language": "python",
   "name": "python3"
  },
  "language_info": {
   "codemirror_mode": {
    "name": "ipython",
    "version": 3
   },
   "file_extension": ".py",
   "mimetype": "text/x-python",
   "name": "python",
   "nbconvert_exporter": "python",
   "pygments_lexer": "ipython3",
   "version": "3.11.5"
  }
 },
 "nbformat": 4,
 "nbformat_minor": 5
}
